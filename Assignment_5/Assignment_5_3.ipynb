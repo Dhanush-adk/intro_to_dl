{
  "nbformat": 4,
  "nbformat_minor": 0,
  "metadata": {
    "colab": {
      "provenance": [],
      "gpuType": "T4",
      "authorship_tag": "ABX9TyNWZzU+rRfwxa5NiLusrsxK",
      "include_colab_link": true
    },
    "kernelspec": {
      "name": "python3",
      "display_name": "Python 3"
    },
    "language_info": {
      "name": "python"
    },
    "accelerator": "GPU"
  },
  "cells": [
    {
      "cell_type": "markdown",
      "metadata": {
        "id": "view-in-github",
        "colab_type": "text"
      },
      "source": [
        "<a href=\"https://colab.research.google.com/github/Dhanush-adk/intro_to_dl/blob/main/Assignment_5/Assignment_5_3.ipynb\" target=\"_parent\"><img src=\"https://colab.research.google.com/assets/colab-badge.svg\" alt=\"Open In Colab\"/></a>"
      ]
    },
    {
      "cell_type": "code",
      "source": [
        "!pip install ipython-autotime\n",
        "%load_ext autotime"
      ],
      "metadata": {
        "colab": {
          "base_uri": "https://localhost:8080/"
        },
        "id": "WWzLM38TV_9B",
        "outputId": "a11aad48-4275-4842-a545-cdd40f725685"
      },
      "execution_count": 1,
      "outputs": [
        {
          "output_type": "stream",
          "name": "stdout",
          "text": [
            "Collecting ipython-autotime\n",
            "  Downloading ipython_autotime-0.3.2-py2.py3-none-any.whl (7.0 kB)\n",
            "Requirement already satisfied: ipython in /usr/local/lib/python3.10/dist-packages (from ipython-autotime) (7.34.0)\n",
            "Requirement already satisfied: setuptools>=18.5 in /usr/local/lib/python3.10/dist-packages (from ipython->ipython-autotime) (67.7.2)\n",
            "Collecting jedi>=0.16 (from ipython->ipython-autotime)\n",
            "  Downloading jedi-0.19.1-py2.py3-none-any.whl (1.6 MB)\n",
            "\u001b[2K     \u001b[90m━━━━━━━━━━━━━━━━━━━━━━━━━━━━━━━━━━━━━━━━\u001b[0m \u001b[32m1.6/1.6 MB\u001b[0m \u001b[31m7.0 MB/s\u001b[0m eta \u001b[36m0:00:00\u001b[0m\n",
            "\u001b[?25hRequirement already satisfied: decorator in /usr/local/lib/python3.10/dist-packages (from ipython->ipython-autotime) (4.4.2)\n",
            "Requirement already satisfied: pickleshare in /usr/local/lib/python3.10/dist-packages (from ipython->ipython-autotime) (0.7.5)\n",
            "Requirement already satisfied: traitlets>=4.2 in /usr/local/lib/python3.10/dist-packages (from ipython->ipython-autotime) (5.7.1)\n",
            "Requirement already satisfied: prompt-toolkit!=3.0.0,!=3.0.1,<3.1.0,>=2.0.0 in /usr/local/lib/python3.10/dist-packages (from ipython->ipython-autotime) (3.0.43)\n",
            "Requirement already satisfied: pygments in /usr/local/lib/python3.10/dist-packages (from ipython->ipython-autotime) (2.16.1)\n",
            "Requirement already satisfied: backcall in /usr/local/lib/python3.10/dist-packages (from ipython->ipython-autotime) (0.2.0)\n",
            "Requirement already satisfied: matplotlib-inline in /usr/local/lib/python3.10/dist-packages (from ipython->ipython-autotime) (0.1.7)\n",
            "Requirement already satisfied: pexpect>4.3 in /usr/local/lib/python3.10/dist-packages (from ipython->ipython-autotime) (4.9.0)\n",
            "Requirement already satisfied: parso<0.9.0,>=0.8.3 in /usr/local/lib/python3.10/dist-packages (from jedi>=0.16->ipython->ipython-autotime) (0.8.4)\n",
            "Requirement already satisfied: ptyprocess>=0.5 in /usr/local/lib/python3.10/dist-packages (from pexpect>4.3->ipython->ipython-autotime) (0.7.0)\n",
            "Requirement already satisfied: wcwidth in /usr/local/lib/python3.10/dist-packages (from prompt-toolkit!=3.0.0,!=3.0.1,<3.1.0,>=2.0.0->ipython->ipython-autotime) (0.2.13)\n",
            "Installing collected packages: jedi, ipython-autotime\n",
            "Successfully installed ipython-autotime-0.3.2 jedi-0.19.1\n",
            "time: 310 µs (started: 2024-04-27 00:43:31 +00:00)\n"
          ]
        }
      ]
    },
    {
      "cell_type": "code",
      "execution_count": 18,
      "metadata": {
        "colab": {
          "base_uri": "https://localhost:8080/"
        },
        "id": "7T4j9HxNVA_5",
        "outputId": "c631567e-a39e-4f08-9568-d6612c313f34"
      },
      "outputs": [
        {
          "output_type": "stream",
          "name": "stdout",
          "text": [
            "time: 685 µs (started: 2024-04-27 00:56:19 +00:00)\n"
          ]
        }
      ],
      "source": [
        "import torch\n",
        "from torch.utils.data import Dataset, DataLoader\n",
        "import torch\n",
        "import torch.nn as nn\n",
        "import torch.optim as optim\n",
        "from torch.utils.data import DataLoader, Dataset\n",
        "import random\n",
        "from torch.nn.utils.rnn import pad_sequence\n"
      ]
    },
    {
      "cell_type": "code",
      "source": [
        "device = torch.device(\"cuda\" if torch.cuda.is_available() else \"cpu\")\n",
        "device"
      ],
      "metadata": {
        "colab": {
          "base_uri": "https://localhost:8080/"
        },
        "id": "SgxS4rVAVlhk",
        "outputId": "83c134ba-3c37-4c55-91f2-cb877986236e"
      },
      "execution_count": 19,
      "outputs": [
        {
          "output_type": "execute_result",
          "data": {
            "text/plain": [
              "device(type='cpu')"
            ]
          },
          "metadata": {},
          "execution_count": 19
        },
        {
          "output_type": "stream",
          "name": "stdout",
          "text": [
            "time: 3.61 ms (started: 2024-04-27 00:56:20 +00:00)\n"
          ]
        }
      ]
    },
    {
      "cell_type": "code",
      "source": [
        "english_to_french = [\n",
        "    (\"I am cold\", \"J'ai froid\"),\n",
        "\n",
        "    (\"You are tired\", \"Tu es fatigué\"),\n",
        "\n",
        "    (\"He is hungry\", \"Il a faim\"),\n",
        "\n",
        "    (\"She is happy\", \"Elle est heureuse\"),\n",
        "\n",
        "    (\"We are friends\", \"Nous sommes amis\"),\n",
        "\n",
        "    (\"They are students\", \"Ils sont étudiants\"),\n",
        "\n",
        "    (\"The cat is sleeping\", \"Le chat dort\"),\n",
        "\n",
        "    (\"The sun is shining\", \"Le soleil brille\"),\n",
        "\n",
        "    (\"We love music\", \"Nous aimons la musique\"),\n",
        "\n",
        "    (\"She speaks French fluently\", \"Elle parle français couramment\"),\n",
        "\n",
        "    (\"He enjoys reading books\", \"Il aime lire des livres\"),\n",
        "\n",
        "    (\"They play soccer every weekend\", \"Ils jouent au football chaque week-end\"),\n",
        "\n",
        "    (\"The movie starts at 7 PM\", \"Le film commence à 19 heures\"),\n",
        "\n",
        "    (\"She wears a red dress\", \"Elle porte une robe rouge\"),\n",
        "\n",
        "    (\"We cook dinner together\", \"Nous cuisinons le dîner ensemble\"),\n",
        "\n",
        "    (\"He drives a blue car\", \"Il conduit une voiture bleue\"),\n",
        "\n",
        "    (\"They visit museums often\", \"Ils visitent souvent des musées\"),\n",
        "\n",
        "    (\"The restaurant serves delicious food\", \"Le restaurant sert une délicieuse cuisine\"),\n",
        "\n",
        "    (\"She studies mathematics at university\", \"Elle étudie les mathématiques à l'université\"),\n",
        "\n",
        "    (\"We watch movies on Fridays\", \"Nous regardons des films le vendredi\"),\n",
        "\n",
        "    (\"He listens to music while jogging\", \"Il écoute de la musique en faisant du jogging\"),\n",
        "\n",
        "    (\"They travel around the world\", \"Ils voyagent autour du monde\"),\n",
        "\n",
        "    (\"The book is on the table\", \"Le livre est sur la table\"),\n",
        "\n",
        "    (\"She dances gracefully\", \"Elle danse avec grâce\"),\n",
        "\n",
        "    (\"We celebrate birthdays with cake\", \"Nous célébrons les anniversaires avec un gâteau\"),\n",
        "\n",
        "    (\"He works hard every day\", \"Il travaille dur tous les jours\"),\n",
        "\n",
        "    (\"They speak different languages\", \"Ils parlent différentes langues\"),\n",
        "\n",
        "    (\"The flowers bloom in spring\", \"Les fleurs fleurissent au printemps\"),\n",
        "\n",
        "    (\"She writes poetry in her free time\", \"Elle écrit de la poésie pendant son temps libre\"),\n",
        "\n",
        "    (\"We learn something new every day\", \"Nous apprenons quelque chose de nouveau chaque jour\"),\n",
        "\n",
        "    (\"The dog barks loudly\", \"Le chien aboie bruyamment\"),\n",
        "\n",
        "    (\"He sings beautifully\", \"Il chante magnifiquement\"),\n",
        "\n",
        "    (\"They swim in the pool\", \"Ils nagent dans la piscine\"),\n",
        "\n",
        "    (\"The birds chirp in the morning\", \"Les oiseaux gazouillent le matin\"),\n",
        "\n",
        "    (\"She teaches English at school\", \"Elle enseigne l'anglais à l'école\"),\n",
        "\n",
        "    (\"We eat breakfast together\", \"Nous prenons le petit déjeuner ensemble\"),\n",
        "\n",
        "    (\"He paints landscapes\", \"Il peint des paysages\"),\n",
        "\n",
        "    (\"They laugh at the joke\", \"Ils rient de la blague\"),\n",
        "\n",
        "    (\"The clock ticks loudly\", \"L'horloge tic-tac bruyamment\"),\n",
        "\n",
        "    (\"She runs in the park\", \"Elle court dans le parc\"),\n",
        "\n",
        "    (\"We travel by train\", \"Nous voyageons en train\"),\n",
        "\n",
        "    (\"He writes a letter\", \"Il écrit une lettre\"),\n",
        "\n",
        "    (\"They read books at the library\", \"Ils lisent des livres à la bibliothèque\"),\n",
        "\n",
        "    (\"The baby cries\", \"Le bébé pleure\"),\n",
        "\n",
        "    (\"She studies hard for exams\", \"Elle étudie dur pour les examens\"),\n",
        "\n",
        "    (\"We plant flowers in the garden\", \"Nous plantons des fleurs dans le jardin\"),\n",
        "\n",
        "    (\"He fixes the car\", \"Il répare la voiture\"),\n",
        "\n",
        "    (\"They drink coffee in the morning\", \"Ils boivent du café le matin\"),\n",
        "\n",
        "    (\"The sun sets in the evening\", \"Le soleil se couche le soir\"),\n",
        "\n",
        "    (\"She dances at the party\", \"Elle danse à la fête\"),\n",
        "\n",
        "    (\"We play music at the concert\", \"Nous jouons de la musique au concert\"),\n",
        "\n",
        "    (\"He cooks dinner for his family\", \"Il cuisine le dîner pour sa famille\"),\n",
        "\n",
        "    (\"They study French grammar\", \"Ils étudient la grammaire française\"),\n",
        "\n",
        "    (\"The rain falls gently\", \"La pluie tombe doucement\"),\n",
        "\n",
        "    (\"She sings a song\", \"Elle chante une chanson\"),\n",
        "\n",
        "    (\"We watch a movie together\", \"Nous regardons un film ensemble\"),\n",
        "\n",
        "    (\"He sleeps deeply\", \"Il dort profondément\"),\n",
        "\n",
        "    (\"They travel to Paris\", \"Ils voyagent à Paris\"),\n",
        "\n",
        "    (\"The children play in the park\", \"Les enfants jouent dans le parc\"),\n",
        "\n",
        "    (\"She walks along the beach\", \"Elle se promène le long de la plage\"),\n",
        "\n",
        "    (\"We talk on the phone\", \"Nous parlons au téléphone\"),\n",
        "\n",
        "    (\"He waits for the bus\", \"Il attend le bus\"),\n",
        "\n",
        "    (\"They visit the Eiffel Tower\", \"Ils visitent la tour Eiffel\"),\n",
        "\n",
        "    (\"The stars twinkle at night\", \"Les étoiles scintillent la nuit\"),\n",
        "\n",
        "    (\"She dreams of flying\", \"Elle rêve de voler\"),\n",
        "\n",
        "    (\"We work in the office\", \"Nous travaillons au bureau\"),\n",
        "\n",
        "    (\"He studies history\", \"Il étudie l'histoire\"),\n",
        "\n",
        "    (\"They listen to the radio\", \"Ils écoutent la radio\"),\n",
        "\n",
        "    (\"The wind blows gently\", \"Le vent souffle doucement\"),\n",
        "\n",
        "    (\"She swims in the ocean\", \"Elle nage dans l'océan\"),\n",
        "\n",
        "    (\"We dance at the wedding\", \"Nous dansons au mariage\"),\n",
        "\n",
        "    (\"He climbs the mountain\", \"Il gravit la montagne\"),\n",
        "\n",
        "    (\"They hike in the forest\", \"Ils font de la randonnée dans la forêt\"),\n",
        "\n",
        "    (\"The cat meows loudly\", \"Le chat miaule bruyamment\"),\n",
        "\n",
        "    (\"She paints a picture\", \"Elle peint un tableau\"),\n",
        "\n",
        "    (\"We build a sandcastle\", \"Nous construisons un château de sable\"),\n",
        "\n",
        "    (\"He sings in the choir\", \"Il chante dans le chœur\")\n",
        "]"
      ],
      "metadata": {
        "colab": {
          "base_uri": "https://localhost:8080/"
        },
        "id": "Ojx0I_HWV8js",
        "outputId": "8dc89704-faf7-4580-92d0-fddf721499f2"
      },
      "execution_count": 20,
      "outputs": [
        {
          "output_type": "stream",
          "name": "stdout",
          "text": [
            "time: 2.19 ms (started: 2024-04-27 00:56:20 +00:00)\n"
          ]
        }
      ]
    },
    {
      "cell_type": "code",
      "source": [
        "# Assume english_to_french is defined elsewhere\n",
        "french_to_english = [(french, english) for english, french in english_to_french]\n",
        "word_to_index = {\"SOS\": 0, \"EOS\": 1}\n",
        "for eng, fre in english_to_french:\n",
        "    for word in eng.split() + fre.split():\n",
        "        if word not in word_to_index:\n",
        "            word_to_index[word] = len(word_to_index)"
      ],
      "metadata": {
        "colab": {
          "base_uri": "https://localhost:8080/"
        },
        "id": "RN-p8yx-BQJq",
        "outputId": "4baae6ec-b596-4c7d-cd4d-3257dc011bc5"
      },
      "execution_count": 37,
      "outputs": [
        {
          "output_type": "stream",
          "name": "stdout",
          "text": [
            "time: 1.75 ms (started: 2024-04-27 01:17:32 +00:00)\n"
          ]
        }
      ]
    },
    {
      "cell_type": "code",
      "source": [
        "# Dataset class for translation data\n",
        "class TranslationDataset(Dataset):\n",
        "    def __init__(self, dataset, word_to_index):\n",
        "        self.dataset = dataset\n",
        "        self.word_to_index = word_to_index\n",
        "\n",
        "    def __len__(self):\n",
        "        return len(self.dataset)\n",
        "\n",
        "    def __getitem__(self, idx):\n",
        "        french_sentence, english_sentence = self.dataset[idx]\n",
        "        input_indices = [self.word_to_index[word] for word in french_sentence.split()] + [word_to_index[\"EOS\"]]\n",
        "        target_indices = [self.word_to_index[word] for word in english_sentence.split()] + [word_to_index[\"EOS\"]]\n",
        "        return torch.tensor(input_indices, dtype=torch.long), torch.tensor(target_indices, dtype=torch.long)\n",
        "\n",
        "def collate_batch(batch):\n",
        "    input_tensors, target_tensors = zip(*batch)\n",
        "    input_tensors_padded = pad_sequence(input_tensors, batch_first=True, padding_value=word_to_index[\"EOS\"])\n",
        "    target_tensors_padded = pad_sequence(target_tensors, batch_first=True, padding_value=word_to_index[\"EOS\"])\n",
        "    return input_tensors_padded, target_tensors_padded\n",
        "\n",
        "# Transformer Model\n",
        "class Transformer(nn.Module):\n",
        "    def __init__(self, vocab_size, hidden_size, num_layers = 4, num_heads = 8, dropout = 0.2):\n",
        "        super(Transformer, self).__init__()\n",
        "        self.embedding = nn.Embedding(vocab_size, hidden_size)\n",
        "        self.transformer = nn.Transformer(\n",
        "            d_model=hidden_size,\n",
        "            nhead=num_heads,\n",
        "            num_encoder_layers=num_layers,\n",
        "            num_decoder_layers=num_layers,\n",
        "            dim_feedforward=hidden_size * 4,\n",
        "            dropout=dropout,\n",
        "            batch_first=True\n",
        "        )\n",
        "        self.fc_out = nn.Linear(hidden_size, vocab_size)\n",
        "\n",
        "    def forward(self, src, tgt):\n",
        "        src = self.embedding(src)\n",
        "        tgt = self.embedding(tgt)\n",
        "        tgt_mask = self.transformer.generate_square_subsequent_mask(tgt.size(1)).to(tgt.device)\n",
        "        output = self.transformer(src, tgt, tgt_mask=tgt_mask)\n",
        "        return self.fc_out(output)\n"
      ],
      "metadata": {
        "colab": {
          "base_uri": "https://localhost:8080/"
        },
        "id": "0wKVy1pZANQO",
        "outputId": "749e0f05-2865-4571-dbb9-fd4b00096311"
      },
      "execution_count": 13,
      "outputs": [
        {
          "output_type": "stream",
          "name": "stdout",
          "text": [
            "time: 2.09 ms (started: 2024-04-27 00:54:38 +00:00)\n"
          ]
        }
      ]
    },
    {
      "cell_type": "code",
      "source": [
        "# Initialization and Running Training\n",
        "device = torch.device(\"cuda\" if torch.cuda.is_available() else \"cpu\")\n",
        "input_size = len(word_to_index)\n",
        "embed_size = 128\n",
        "num_layers = 4\n",
        "num_heads = 8\n",
        "dropout = 0.2\n",
        "epochs = 60"
      ],
      "metadata": {
        "colab": {
          "base_uri": "https://localhost:8080/"
        },
        "id": "JGsVZ6bzB5Mr",
        "outputId": "2c43649b-2c47-4377-ff95-5a7be9b72c0d"
      },
      "execution_count": 55,
      "outputs": [
        {
          "output_type": "stream",
          "name": "stdout",
          "text": [
            "time: 1.1 ms (started: 2024-04-27 01:46:57 +00:00)\n"
          ]
        }
      ]
    },
    {
      "cell_type": "code",
      "source": [
        "model = Transformer(input_size, embed_size).to(device)\n",
        "optimizer = optim.Adam(model.parameters(), lr=0.0005)\n",
        "loss_function = nn.CrossEntropyLoss(ignore_index=word_to_index[\"EOS\"])\n",
        "\n",
        "dataset = TranslationDataset(english_to_french, word_to_index)\n",
        "translation_loader = DataLoader(dataset, batch_size=32, shuffle=True, collate_fn= collate_batch)\n",
        "\n",
        "for epoch_num in range(epochs + 1):\n",
        "    model.train()\n",
        "\n",
        "    total_train_loss = 0\n",
        "    correct_predictions = 0\n",
        "    total_predictions = 0\n",
        "\n",
        "    for english_tensor, french_tensor in translation_loader:\n",
        "        english_tensor = english_tensor.to(device)\n",
        "        french_tensor = french_tensor.to(device)\n",
        "\n",
        "        optimizer.zero_grad()\n",
        "        output = model(english_tensor, french_tensor[:, :-1])\n",
        "        output_flat = output.view(-1, output.size(-1))\n",
        "        french_target_flat = french_tensor[:, 1:].contiguous().view(-1)\n",
        "\n",
        "        valid_french_tokens = french_target_flat != 1\n",
        "        loss = loss_function(output_flat[valid_french_tokens], french_target_flat[valid_french_tokens])\n",
        "        loss.backward()\n",
        "        optimizer.step()\n",
        "\n",
        "        total_train_loss += loss.item()\n",
        "        _, predicted = torch.max(output_flat, 1)\n",
        "        valid_predictions = (predicted == french_target_flat) & valid_french_tokens\n",
        "        correct_predictions += valid_predictions.sum().item()\n",
        "        total_predictions += valid_french_tokens.sum().item()\n",
        "\n",
        "    mean_train_loss = total_train_loss / len(translation_loader)\n",
        "    training_accuracy = correct_predictions / total_predictions if total_predictions > 0 else 0\n",
        "\n",
        "    model.eval()\n",
        "    total_eval_loss = 0\n",
        "    eval_correct = 0\n",
        "    eval_total = 0\n",
        "    with torch.no_grad():\n",
        "        for english_tensor, french_tensor in translation_loader:\n",
        "            english_tensor = english_tensor.to(device)\n",
        "            french_tensor = french_tensor.to(device)\n",
        "\n",
        "            output = model(english_tensor, french_tensor[:, :-1])\n",
        "            output_flat = output.view(-1, output.size(-1))\n",
        "            french_target_flat = french_tensor[:, 1:].contiguous().view(-1)\n",
        "\n",
        "            valid_french_tokens = french_target_flat != 1\n",
        "            loss = loss_function(output_flat[valid_french_tokens], french_target_flat[valid_french_tokens])\n",
        "\n",
        "            total_eval_loss += loss.item()\n",
        "\n",
        "            _, predicted = torch.max(output_flat, 1)\n",
        "            valid_predictions = (predicted == french_target_flat) & valid_french_tokens\n",
        "            eval_correct += valid_predictions.sum().item()\n",
        "            eval_total += valid_french_tokens.sum().item()\n",
        "\n",
        "    mean_eval_loss = total_eval_loss / len(translation_loader)\n",
        "    evaluation_accuracy = eval_correct / eval_total if eval_total > 0 else 0\n",
        "    if epoch_num % 10 == 0:\n",
        "        print(f'Epoch {epoch_num}: Loss = {mean_train_loss:.4f}, Train Accuracy = {training_accuracy:.4f}, '\n",
        "              f'Val Loss = {mean_eval_loss:.4f}, Val Accuracy = {evaluation_accuracy:.4f}')\n"
      ],
      "metadata": {
        "colab": {
          "base_uri": "https://localhost:8080/"
        },
        "id": "3XoAb6pvCETc",
        "outputId": "4e315f62-a90e-4166-92fb-d9c3758e42b7"
      },
      "execution_count": 56,
      "outputs": [
        {
          "output_type": "stream",
          "name": "stdout",
          "text": [
            "Epoch 0: Loss = 5.9911, Train Accuracy = 0.0067, Val Loss = 5.6825, Val Accuracy = 0.0570\n",
            "Epoch 10: Loss = 4.6032, Train Accuracy = 0.1309, Val Loss = 4.2952, Val Accuracy = 0.1678\n",
            "Epoch 20: Loss = 3.5566, Train Accuracy = 0.2752, Val Loss = 3.0330, Val Accuracy = 0.3591\n",
            "Epoch 30: Loss = 2.6977, Train Accuracy = 0.4631, Val Loss = 2.0232, Val Accuracy = 0.5772\n",
            "Epoch 40: Loss = 1.9706, Train Accuracy = 0.7081, Val Loss = 1.2911, Val Accuracy = 0.8456\n",
            "Epoch 50: Loss = 1.3751, Train Accuracy = 0.8926, Val Loss = 0.7630, Val Accuracy = 0.9765\n",
            "Epoch 60: Loss = 0.9588, Train Accuracy = 0.9698, Val Loss = 0.4566, Val Accuracy = 1.0000\n",
            "time: 27.1 s (started: 2024-04-27 01:46:58 +00:00)\n"
          ]
        }
      ]
    },
    {
      "cell_type": "code",
      "source": [
        "sentence = \"You are tired\"\n",
        "\n",
        "model.eval()  # Set the model to evaluation mode\n",
        "\n",
        "# Tokenize the sentence and convert each word to its corresponding index\n",
        "words = sentence.split()\n",
        "input_tensor = torch.tensor([word_to_index[word] for word in words if word in word_to_index]).unsqueeze(0).to(device)\n",
        "\n",
        "# Initialize the output tensor with the index of \"SOS\" (start of sentence)\n",
        "output_indices = [word_to_index['SOS']]\n",
        "for _ in range(len(words)):\n",
        "    # Convert the current output indices to a tensor input for the model\n",
        "    output_tensor = torch.tensor(output_indices).unsqueeze(0).to(device)\n",
        "\n",
        "    # Get predictions from the model\n",
        "    with torch.no_grad():\n",
        "        output = model(input_tensor, output_tensor)\n",
        "\n",
        "    # Find the predicted word (index with the highest probability in the last position)\n",
        "    predicted_index = output[0, -1, :].argmax(0).item()\n",
        "\n",
        "    # If \"EOS\" (end of sentence), stop the prediction\n",
        "    if predicted_index == word_to_index['EOS']:\n",
        "        break\n",
        "\n",
        "    # Append the predicted index to the output sequence\n",
        "    output_indices.append(predicted_index)\n",
        "\n",
        "# Convert indices back to words\n",
        "index_to_word = {index: word for word, index in word_to_index.items()}\n",
        "translated_sentence = ' '.join([index_to_word[idx] for idx in output_indices if idx != word_to_index['SOS']])\n",
        "translated_sentence"
      ],
      "metadata": {
        "colab": {
          "base_uri": "https://localhost:8080/",
          "height": 54
        },
        "id": "jyvf0owXIVZL",
        "outputId": "08bbc592-d2f5-4989-c731-a7ee929d1865"
      },
      "execution_count": 57,
      "outputs": [
        {
          "output_type": "execute_result",
          "data": {
            "text/plain": [
              "'es fatigué des'"
            ],
            "application/vnd.google.colaboratory.intrinsic+json": {
              "type": "string"
            }
          },
          "metadata": {},
          "execution_count": 57
        },
        {
          "output_type": "stream",
          "name": "stdout",
          "text": [
            "time: 28 ms (started: 2024-04-27 01:47:28 +00:00)\n"
          ]
        }
      ]
    },
    {
      "cell_type": "code",
      "source": [],
      "metadata": {
        "id": "yIhhsRgOOrMt"
      },
      "execution_count": null,
      "outputs": []
    }
  ]
}