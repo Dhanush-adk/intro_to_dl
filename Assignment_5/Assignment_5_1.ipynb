{
  "nbformat": 4,
  "nbformat_minor": 0,
  "metadata": {
    "colab": {
      "provenance": [],
      "gpuType": "T4",
      "authorship_tag": "ABX9TyOl1cRChR6kNBDY4i+1SjZb",
      "include_colab_link": true
    },
    "kernelspec": {
      "name": "python3",
      "display_name": "Python 3"
    },
    "language_info": {
      "name": "python"
    },
    "accelerator": "GPU"
  },
  "cells": [
    {
      "cell_type": "markdown",
      "metadata": {
        "id": "view-in-github",
        "colab_type": "text"
      },
      "source": [
        "<a href=\"https://colab.research.google.com/github/Dhanush-adk/intro_to_dl/blob/main/Assignment_5/Assignment_5_1.ipynb\" target=\"_parent\"><img src=\"https://colab.research.google.com/assets/colab-badge.svg\" alt=\"Open In Colab\"/></a>"
      ]
    },
    {
      "cell_type": "code",
      "source": [
        "!pip install ipython-autotime\n",
        "%load_ext autotime"
      ],
      "metadata": {
        "colab": {
          "base_uri": "https://localhost:8080/"
        },
        "id": "rk5V0NbOoxSg",
        "outputId": "04cbe724-6d1f-401b-d621-9e24b0aa5cb5"
      },
      "execution_count": 1,
      "outputs": [
        {
          "output_type": "stream",
          "name": "stdout",
          "text": [
            "Collecting ipython-autotime\n",
            "  Downloading ipython_autotime-0.3.2-py2.py3-none-any.whl (7.0 kB)\n",
            "Requirement already satisfied: ipython in /usr/local/lib/python3.10/dist-packages (from ipython-autotime) (7.34.0)\n",
            "Requirement already satisfied: setuptools>=18.5 in /usr/local/lib/python3.10/dist-packages (from ipython->ipython-autotime) (67.7.2)\n",
            "Collecting jedi>=0.16 (from ipython->ipython-autotime)\n",
            "  Downloading jedi-0.19.1-py2.py3-none-any.whl (1.6 MB)\n",
            "\u001b[2K     \u001b[90m━━━━━━━━━━━━━━━━━━━━━━━━━━━━━━━━━━━━━━━━\u001b[0m \u001b[32m1.6/1.6 MB\u001b[0m \u001b[31m6.7 MB/s\u001b[0m eta \u001b[36m0:00:00\u001b[0m\n",
            "\u001b[?25hRequirement already satisfied: decorator in /usr/local/lib/python3.10/dist-packages (from ipython->ipython-autotime) (4.4.2)\n",
            "Requirement already satisfied: pickleshare in /usr/local/lib/python3.10/dist-packages (from ipython->ipython-autotime) (0.7.5)\n",
            "Requirement already satisfied: traitlets>=4.2 in /usr/local/lib/python3.10/dist-packages (from ipython->ipython-autotime) (5.7.1)\n",
            "Requirement already satisfied: prompt-toolkit!=3.0.0,!=3.0.1,<3.1.0,>=2.0.0 in /usr/local/lib/python3.10/dist-packages (from ipython->ipython-autotime) (3.0.43)\n",
            "Requirement already satisfied: pygments in /usr/local/lib/python3.10/dist-packages (from ipython->ipython-autotime) (2.16.1)\n",
            "Requirement already satisfied: backcall in /usr/local/lib/python3.10/dist-packages (from ipython->ipython-autotime) (0.2.0)\n",
            "Requirement already satisfied: matplotlib-inline in /usr/local/lib/python3.10/dist-packages (from ipython->ipython-autotime) (0.1.7)\n",
            "Requirement already satisfied: pexpect>4.3 in /usr/local/lib/python3.10/dist-packages (from ipython->ipython-autotime) (4.9.0)\n",
            "Requirement already satisfied: parso<0.9.0,>=0.8.3 in /usr/local/lib/python3.10/dist-packages (from jedi>=0.16->ipython->ipython-autotime) (0.8.4)\n",
            "Requirement already satisfied: ptyprocess>=0.5 in /usr/local/lib/python3.10/dist-packages (from pexpect>4.3->ipython->ipython-autotime) (0.7.0)\n",
            "Requirement already satisfied: wcwidth in /usr/local/lib/python3.10/dist-packages (from prompt-toolkit!=3.0.0,!=3.0.1,<3.1.0,>=2.0.0->ipython->ipython-autotime) (0.2.13)\n",
            "Installing collected packages: jedi, ipython-autotime\n",
            "Successfully installed ipython-autotime-0.3.2 jedi-0.19.1\n",
            "time: 361 µs (started: 2024-04-26 18:48:19 +00:00)\n"
          ]
        }
      ]
    },
    {
      "cell_type": "code",
      "execution_count": 2,
      "metadata": {
        "colab": {
          "base_uri": "https://localhost:8080/"
        },
        "id": "tA_gBY3kmmgT",
        "outputId": "5c7f64d3-720c-459e-b87b-f55a909becf3"
      },
      "outputs": [
        {
          "output_type": "stream",
          "name": "stdout",
          "text": [
            "time: 4.56 s (started: 2024-04-26 18:48:19 +00:00)\n"
          ]
        }
      ],
      "source": [
        "import torch\n",
        "import torch.nn as nn\n",
        "import torch.optim as optim\n",
        "import numpy as np\n",
        "from sklearn.model_selection import train_test_split\n",
        "from torchsummary import summary"
      ]
    },
    {
      "cell_type": "code",
      "source": [
        "\n",
        "text = '''Next character prediction is a fundamental task in the field of natural language processing (NLP) that involves predicting the next character in a sequence of text based on the characters that precede it. This task is essential for various applications, including text auto-completion, spell checking, and even in the development of sophisticated AI models capable of generating human-like text.\n",
        "\n",
        "At its core, next character prediction relies on statistical models or deep learning algorithms to analyze a given sequence of text and predict which character is most likely to follow. These predictions are based on patterns and relationships learned from large datasets of text during the training phase of the model.\n",
        "\n",
        "One of the most popular approaches to next character prediction involves the use of Recurrent Neural Networks (RNNs), and more specifically, a variant called Long Short-Term Memory (LSTM) networks. RNNs are particularly well-suited for sequential data like text, as they can maintain information in 'memory' about previous characters to inform the prediction of the next character. LSTM networks enhance this capability by being able to remember long-term dependencies, making them even more effective for next character prediction tasks.\n",
        "\n",
        "Training a model for next character prediction involves feeding it large amounts of text data, allowing it to learn the probability of each character's appearance following a sequence of characters. During this training process, the model adjusts its parameters to minimize the difference between its predictions and the actual outcomes, thus improving its predictive accuracy over time.\n",
        "\n",
        "Once trained, the model can be used to predict the next character in a given piece of text by considering the sequence of characters that precede it. This can enhance user experience in text editing software, improve efficiency in coding environments with auto-completion features, and enable more natural interactions with AI-based chatbots and virtual assistants.\n",
        "\n",
        "In summary, next character prediction plays a crucial role in enhancing the capabilities of various NLP applications, making text-based interactions more efficient, accurate, and human-like. Through the use of advanced machine learning models like RNNs and LSTMs, next character prediction continues to evolve, opening new possibilities for the future of text-based technology.'''"
      ],
      "metadata": {
        "colab": {
          "base_uri": "https://localhost:8080/"
        },
        "id": "FoxRRvtInCZC",
        "outputId": "b8881b4b-77fa-442c-cfaa-8b746b1f23ad"
      },
      "execution_count": 3,
      "outputs": [
        {
          "output_type": "stream",
          "name": "stdout",
          "text": [
            "time: 382 µs (started: 2024-04-26 18:48:24 +00:00)\n"
          ]
        }
      ]
    },
    {
      "cell_type": "code",
      "source": [
        "# Preparing the dataset for sequence prediction\n",
        "max_length = 10  # Maximum length of input sequences\n",
        "sequences = [text[i:i + max_length] for i in range(len(text) - max_length)]\n",
        "labels = [text[i + max_length] for i in range(len(text) - max_length)]"
      ],
      "metadata": {
        "colab": {
          "base_uri": "https://localhost:8080/"
        },
        "id": "gt1yn2wSnt-j",
        "outputId": "25ae00f4-b53c-4f8f-a071-8ed59ad03f22"
      },
      "execution_count": 4,
      "outputs": [
        {
          "output_type": "stream",
          "name": "stdout",
          "text": [
            "time: 1.22 ms (started: 2024-04-26 18:48:24 +00:00)\n"
          ]
        }
      ]
    },
    {
      "cell_type": "code",
      "source": [
        "# Creating character vocabulary\n",
        "chars = sorted(list(set(text)))\n",
        "char_to_ix = {ch: i for i, ch in enumerate(chars)}"
      ],
      "metadata": {
        "colab": {
          "base_uri": "https://localhost:8080/"
        },
        "id": "QusGNz3OoZbZ",
        "outputId": "5e25ac9e-e082-4cec-9039-f47fee9e9c02"
      },
      "execution_count": 5,
      "outputs": [
        {
          "output_type": "stream",
          "name": "stdout",
          "text": [
            "time: 1.49 ms (started: 2024-04-26 18:48:24 +00:00)\n"
          ]
        }
      ]
    },
    {
      "cell_type": "code",
      "source": [
        "X = torch.tensor([[char_to_ix[ch] for ch in seq] for seq in sequences], dtype = torch.long)\n",
        "\n",
        "y = torch.tensor([char_to_ix[label] for label in labels], dtype = torch.long)"
      ],
      "metadata": {
        "colab": {
          "base_uri": "https://localhost:8080/"
        },
        "id": "sjKidz21oeTh",
        "outputId": "83bc3ec3-cbaa-4cad-dc65-fef3d3f572d5"
      },
      "execution_count": 6,
      "outputs": [
        {
          "output_type": "stream",
          "name": "stdout",
          "text": [
            "time: 38.3 ms (started: 2024-04-26 18:48:24 +00:00)\n"
          ]
        }
      ]
    },
    {
      "cell_type": "code",
      "source": [
        "# Splitting the dataset into training and validation sets\n",
        "X_train, X_val, y_train, y_val = train_test_split(X, y, test_size = 0.2, random_state = 100)"
      ],
      "metadata": {
        "colab": {
          "base_uri": "https://localhost:8080/"
        },
        "id": "wAss9hMdonUt",
        "outputId": "73f715c4-3e86-4713-8b73-5898c9fea873"
      },
      "execution_count": 7,
      "outputs": [
        {
          "output_type": "stream",
          "name": "stdout",
          "text": [
            "time: 24.1 ms (started: 2024-04-26 18:48:24 +00:00)\n"
          ]
        }
      ]
    },
    {
      "cell_type": "code",
      "source": [
        "class CharTransformer(nn.Module):\n",
        "    def __init__(self, input_size, hidden_size, output_size, num_layers, nhead):\n",
        "        super(CharTransformer, self).__init__()\n",
        "        self.embedding = nn.Embedding(input_size, hidden_size)\n",
        "        encoder_layers = nn.TransformerEncoderLayer(hidden_size, nhead)\n",
        "        self.transformer_encoder = nn.TransformerEncoder(encoder_layers, num_layers)\n",
        "        self.fc = nn.Linear(hidden_size, output_size)\n",
        "\n",
        "    def forward(self, x):\n",
        "        embedded = self.embedding(x)\n",
        "        transformer_output = self.transformer_encoder(embedded)\n",
        "        output = self.fc(transformer_output[:, -1, :])  # Get the output of the last Transformer block\n",
        "        return output\n"
      ],
      "metadata": {
        "colab": {
          "base_uri": "https://localhost:8080/"
        },
        "id": "LQcXiK2uokc5",
        "outputId": "34c830be-129b-49e2-a7ab-aeaf2de9d42c"
      },
      "execution_count": 8,
      "outputs": [
        {
          "output_type": "stream",
          "name": "stdout",
          "text": [
            "time: 718 µs (started: 2024-04-26 18:48:24 +00:00)\n"
          ]
        }
      ]
    },
    {
      "cell_type": "code",
      "source": [
        "hidden_size = 128\n",
        "num_layers = 3\n",
        "nhead = 2\n",
        "learning_rate = 0.01\n",
        "epochs = 100"
      ],
      "metadata": {
        "colab": {
          "base_uri": "https://localhost:8080/"
        },
        "id": "o64ruCyMpRwe",
        "outputId": "fc6fda0a-1fcd-492a-f3fa-a25cfeaa8a2f"
      },
      "execution_count": 19,
      "outputs": [
        {
          "output_type": "stream",
          "name": "stdout",
          "text": [
            "time: 481 µs (started: 2024-04-26 18:53:59 +00:00)\n"
          ]
        }
      ]
    },
    {
      "cell_type": "code",
      "source": [
        "device = torch.device(\"cuda\" if torch.cuda.is_available() else \"cpu\")"
      ],
      "metadata": {
        "colab": {
          "base_uri": "https://localhost:8080/"
        },
        "id": "MsPcUPhduIkf",
        "outputId": "02f18e71-510d-4fc2-9c22-74185d24cdc6"
      },
      "execution_count": 20,
      "outputs": [
        {
          "output_type": "stream",
          "name": "stdout",
          "text": [
            "time: 603 µs (started: 2024-04-26 18:54:00 +00:00)\n"
          ]
        }
      ]
    },
    {
      "cell_type": "code",
      "source": [
        "X_train = X_train.to(device)\n",
        "y_train = y_train.to(device)\n",
        "X_val = X_val.to(device)\n",
        "y_val = y_val.to(device)"
      ],
      "metadata": {
        "colab": {
          "base_uri": "https://localhost:8080/"
        },
        "id": "6p7zjXWXuCvc",
        "outputId": "d7f48e26-bb0f-4ceb-b0b6-1011fcaa27c3"
      },
      "execution_count": 21,
      "outputs": [
        {
          "output_type": "stream",
          "name": "stdout",
          "text": [
            "time: 584 µs (started: 2024-04-26 18:54:00 +00:00)\n"
          ]
        }
      ]
    },
    {
      "cell_type": "code",
      "source": [
        "model = CharTransformer(len(chars), hidden_size, len(chars), num_layers, nhead)\n",
        "model = model.to(device)\n",
        "\n",
        "criterion = nn.CrossEntropyLoss()\n",
        "optimizer = optim.Adam(model.parameters(), lr=learning_rate)"
      ],
      "metadata": {
        "colab": {
          "base_uri": "https://localhost:8080/"
        },
        "id": "nMI0AIlpphog",
        "outputId": "63ef0c4b-eab4-4701-ed1c-6d50a704ceca"
      },
      "execution_count": 22,
      "outputs": [
        {
          "output_type": "stream",
          "name": "stdout",
          "text": [
            "time: 25.6 ms (started: 2024-04-26 18:54:01 +00:00)\n"
          ]
        },
        {
          "output_type": "stream",
          "name": "stderr",
          "text": [
            "/usr/local/lib/python3.10/dist-packages/torch/nn/modules/transformer.py:286: UserWarning: enable_nested_tensor is True, but self.use_nested_tensor is False because encoder_layer.self_attn.batch_first was not True(use batch_first for better inference performance)\n",
            "  warnings.warn(f\"enable_nested_tensor is True, but self.use_nested_tensor is False because {why_not_sparsity_fast_path}\")\n"
          ]
        }
      ]
    },
    {
      "cell_type": "code",
      "source": [
        "for epoch in range(epochs):\n",
        "    model.train()\n",
        "    optimizer.zero_grad()\n",
        "\n",
        "    output = model(X_train)\n",
        "    loss = criterion(output, y_train)\n",
        "    loss.backward()\n",
        "    optimizer.step()\n",
        "\n",
        "    model.eval()\n",
        "    with torch.no_grad():\n",
        "        val_output = model(X_val)\n",
        "        val_loss = criterion(val_output, y_val)\n",
        "        _, predicted = torch.max(val_output, 1)\n",
        "        val_accuracy = (predicted == y_val).float().mean()\n",
        "\n",
        "    if (epoch+1) % 10 == 0:\n",
        "        print(f'Epoch {epoch+1}, train Loss: {loss.item()}, val loss: {val_loss.item()}, val accuracy: {val_accuracy.item()}')\n"
      ],
      "metadata": {
        "colab": {
          "base_uri": "https://localhost:8080/"
        },
        "id": "QDrwl2oqtWCl",
        "outputId": "c008ce37-b8fb-4d3d-ab33-fa55edc5a7dd"
      },
      "execution_count": 23,
      "outputs": [
        {
          "output_type": "stream",
          "name": "stdout",
          "text": [
            "Epoch 10, train Loss: 3.0992724895477295, val loss: 3.0189085006713867, val accuracy: 0.14255765080451965\n",
            "Epoch 20, train Loss: 3.07077956199646, val loss: 2.9924402236938477, val accuracy: 0.14255765080451965\n",
            "Epoch 30, train Loss: 3.0612008571624756, val loss: 2.981186628341675, val accuracy: 0.14255765080451965\n",
            "Epoch 40, train Loss: 3.059032678604126, val loss: 2.979858636856079, val accuracy: 0.14255765080451965\n",
            "Epoch 50, train Loss: 3.0505378246307373, val loss: 2.982666492462158, val accuracy: 0.14255765080451965\n",
            "Epoch 60, train Loss: 3.0548887252807617, val loss: 2.9809279441833496, val accuracy: 0.14255765080451965\n",
            "Epoch 70, train Loss: 3.056021213531494, val loss: 2.981275796890259, val accuracy: 0.14255765080451965\n",
            "Epoch 80, train Loss: 3.0548524856567383, val loss: 2.9816489219665527, val accuracy: 0.14255765080451965\n",
            "Epoch 90, train Loss: 3.053952217102051, val loss: 2.9817793369293213, val accuracy: 0.14255765080451965\n",
            "Epoch 100, train Loss: 3.052248239517212, val loss: 2.9806265830993652, val accuracy: 0.14255765080451965\n",
            "time: 18.3 s (started: 2024-04-26 18:54:01 +00:00)\n"
          ]
        }
      ]
    },
    {
      "cell_type": "code",
      "source": [
        "!pip install torchinfo\n",
        "import torchinfo\n",
        "torchinfo.summary(model, input_data=X_train)"
      ],
      "metadata": {
        "colab": {
          "base_uri": "https://localhost:8080/"
        },
        "id": "XnAb5y_iprUv",
        "outputId": "6511d1bd-ddc2-4d7f-8fd1-ef45a9853c8d"
      },
      "execution_count": 24,
      "outputs": [
        {
          "output_type": "stream",
          "name": "stdout",
          "text": [
            "Requirement already satisfied: torchinfo in /usr/local/lib/python3.10/dist-packages (1.8.0)\n"
          ]
        },
        {
          "output_type": "execute_result",
          "data": {
            "text/plain": [
              "===============================================================================================\n",
              "Layer (type:depth-idx)                        Output Shape              Param #\n",
              "===============================================================================================\n",
              "CharTransformer                               [1904, 45]                --\n",
              "├─Embedding: 1-1                              [1904, 10, 128]           5,760\n",
              "├─TransformerEncoder: 1-2                     [1904, 10, 128]           --\n",
              "│    └─ModuleList: 2-1                        --                        --\n",
              "│    │    └─TransformerEncoderLayer: 3-1      [1904, 10, 128]           593,024\n",
              "│    │    └─TransformerEncoderLayer: 3-2      [1904, 10, 128]           593,024\n",
              "│    │    └─TransformerEncoderLayer: 3-3      [1904, 10, 128]           593,024\n",
              "├─Linear: 1-3                                 [1904, 45]                5,805\n",
              "===============================================================================================\n",
              "Total params: 1,790,637\n",
              "Trainable params: 1,790,637\n",
              "Non-trainable params: 0\n",
              "Total mult-adds (G): 3.03\n",
              "===============================================================================================\n",
              "Input size (MB): 0.15\n",
              "Forward/backward pass size (MB): 1131.51\n",
              "Params size (MB): 6.37\n",
              "Estimated Total Size (MB): 1138.03\n",
              "==============================================================================================="
            ]
          },
          "metadata": {},
          "execution_count": 24
        },
        {
          "output_type": "stream",
          "name": "stdout",
          "text": [
            "time: 4.74 s (started: 2024-04-26 18:54:46 +00:00)\n"
          ]
        }
      ]
    },
    {
      "cell_type": "code",
      "source": [],
      "metadata": {
        "id": "yrAQit81wOgV"
      },
      "execution_count": null,
      "outputs": []
    },
    {
      "cell_type": "markdown",
      "source": [
        "for sequence 20"
      ],
      "metadata": {
        "id": "R2BHfEfawW2x"
      }
    },
    {
      "cell_type": "code",
      "source": [
        "max_length = 20\n",
        "sequences = [text[i:i + max_length] for i in range(len(text) - max_length)]\n",
        "labels = [text[i + max_length] for i in range(len(text) - max_length)]\n",
        "chars = sorted(list(set(text)))\n",
        "char_to_ix = {ch: i for i, ch in enumerate(chars)}\n",
        "\n",
        "X = torch.tensor([[char_to_ix[ch] for ch in seq] for seq in sequences], dtype = torch.long)\n",
        "y = torch.tensor([char_to_ix[label] for label in labels], dtype = torch.long)\n",
        "\n",
        "X_train, X_val, y_train, y_val = train_test_split(X, y, test_size = 0.2, random_state = 100)\n",
        "\n",
        "X_train = X_train.to(device)\n",
        "y_train = y_train.to(device)\n",
        "X_val = X_val.to(device)\n",
        "y_val = y_val.to(device)\n",
        "\n",
        "model = CharTransformer(len(chars), hidden_size, len(chars), num_layers, nhead)\n",
        "model = model.to(device)\n",
        "\n",
        "criterion = nn.CrossEntropyLoss()\n",
        "optimizer = optim.Adam(model.parameters(), lr=learning_rate)"
      ],
      "metadata": {
        "colab": {
          "base_uri": "https://localhost:8080/"
        },
        "id": "dtB8xujZxjAa",
        "outputId": "a8eea830-0b4d-485d-975b-e6c9dfd3bfdd"
      },
      "execution_count": 26,
      "outputs": [
        {
          "output_type": "stream",
          "name": "stdout",
          "text": [
            "time: 29.2 ms (started: 2024-04-26 18:58:46 +00:00)\n"
          ]
        }
      ]
    },
    {
      "cell_type": "code",
      "source": [
        "for epoch in range(epochs):\n",
        "    model.train()\n",
        "    optimizer.zero_grad()\n",
        "\n",
        "    output = model(X_train)\n",
        "    loss = criterion(output, y_train)\n",
        "    loss.backward()\n",
        "    optimizer.step()\n",
        "\n",
        "    model.eval()\n",
        "    with torch.no_grad():\n",
        "        val_output = model(X_val)\n",
        "        val_loss = criterion(val_output, y_val)\n",
        "        _, predicted = torch.max(val_output, 1)\n",
        "        val_accuracy = (predicted == y_val).float().mean()\n",
        "\n",
        "    if (epoch+1) % 10 == 0:\n",
        "        print(f'Epoch {epoch+1}, train Loss: {loss.item()}, val loss: {val_loss.item()}, val accuracy: {val_accuracy.item()}')\n"
      ],
      "metadata": {
        "colab": {
          "base_uri": "https://localhost:8080/"
        },
        "id": "UHPZUaPswYUc",
        "outputId": "4db3e55d-4274-4c81-df1f-b5281bcf6f56"
      },
      "execution_count": 27,
      "outputs": [
        {
          "output_type": "stream",
          "name": "stdout",
          "text": [
            "Epoch 10, train Loss: 3.09967041015625, val loss: 3.0496561527252197, val accuracy: 0.14526315033435822\n",
            "Epoch 20, train Loss: 3.059847354888916, val loss: 3.018106460571289, val accuracy: 0.14526315033435822\n",
            "Epoch 30, train Loss: 3.0574605464935303, val loss: 3.0293846130371094, val accuracy: 0.14526315033435822\n",
            "Epoch 40, train Loss: 3.0512354373931885, val loss: 3.027135133743286, val accuracy: 0.14526315033435822\n",
            "Epoch 50, train Loss: 3.0505423545837402, val loss: 3.0262324810028076, val accuracy: 0.14526315033435822\n",
            "Epoch 60, train Loss: 3.0527420043945312, val loss: 3.022688388824463, val accuracy: 0.14526315033435822\n",
            "Epoch 70, train Loss: 3.0533649921417236, val loss: 3.021456480026245, val accuracy: 0.14526315033435822\n",
            "Epoch 80, train Loss: 3.0488805770874023, val loss: 3.021554946899414, val accuracy: 0.14526315033435822\n",
            "Epoch 90, train Loss: 3.048494338989258, val loss: 3.0223448276519775, val accuracy: 0.14526315033435822\n",
            "Epoch 100, train Loss: 3.0530264377593994, val loss: 3.0223348140716553, val accuracy: 0.14526315033435822\n",
            "time: 36 s (started: 2024-04-26 18:58:48 +00:00)\n"
          ]
        }
      ]
    },
    {
      "cell_type": "code",
      "source": [
        "torchinfo.summary(model, input_data = X_train)"
      ],
      "metadata": {
        "colab": {
          "base_uri": "https://localhost:8080/"
        },
        "id": "trlufkXMxZX2",
        "outputId": "caea2384-de86-4399-d077-475546a329ca"
      },
      "execution_count": 28,
      "outputs": [
        {
          "output_type": "execute_result",
          "data": {
            "text/plain": [
              "===============================================================================================\n",
              "Layer (type:depth-idx)                        Output Shape              Param #\n",
              "===============================================================================================\n",
              "CharTransformer                               [1896, 45]                --\n",
              "├─Embedding: 1-1                              [1896, 20, 128]           5,760\n",
              "├─TransformerEncoder: 1-2                     [1896, 20, 128]           --\n",
              "│    └─ModuleList: 2-1                        --                        --\n",
              "│    │    └─TransformerEncoderLayer: 3-1      [1896, 20, 128]           593,024\n",
              "│    │    └─TransformerEncoderLayer: 3-2      [1896, 20, 128]           593,024\n",
              "│    │    └─TransformerEncoderLayer: 3-3      [1896, 20, 128]           593,024\n",
              "├─Linear: 1-3                                 [1896, 45]                5,805\n",
              "===============================================================================================\n",
              "Total params: 1,790,637\n",
              "Trainable params: 1,790,637\n",
              "Non-trainable params: 0\n",
              "Total mult-adds (G): 3.02\n",
              "===============================================================================================\n",
              "Input size (MB): 0.30\n",
              "Forward/backward pass size (MB): 2252.83\n",
              "Params size (MB): 6.37\n",
              "Estimated Total Size (MB): 2259.50\n",
              "==============================================================================================="
            ]
          },
          "metadata": {},
          "execution_count": 28
        },
        {
          "output_type": "stream",
          "name": "stdout",
          "text": [
            "time: 29.1 ms (started: 2024-04-26 18:59:31 +00:00)\n"
          ]
        }
      ]
    },
    {
      "cell_type": "code",
      "source": [],
      "metadata": {
        "id": "ih8aLwZ1xvGS"
      },
      "execution_count": null,
      "outputs": []
    },
    {
      "cell_type": "markdown",
      "source": [
        "for sequences 30"
      ],
      "metadata": {
        "id": "Cz3Ao0P7x8z_"
      }
    },
    {
      "cell_type": "code",
      "source": [
        "max_length = 30\n",
        "sequences = [text[i:i + max_length] for i in range(len(text) - max_length)]\n",
        "labels = [text[i + max_length] for i in range(len(text) - max_length)]\n",
        "chars = sorted(list(set(text)))\n",
        "char_to_ix = {ch: i for i, ch in enumerate(chars)}\n",
        "\n",
        "X = torch.tensor([[char_to_ix[ch] for ch in seq] for seq in sequences], dtype = torch.long)\n",
        "y = torch.tensor([char_to_ix[label] for label in labels], dtype = torch.long)\n",
        "\n",
        "X_train, X_val, y_train, y_val = train_test_split(X, y, test_size = 0.2, random_state = 100)\n",
        "\n",
        "X_train = X_train.to(device)\n",
        "y_train = y_train.to(device)\n",
        "X_val = X_val.to(device)\n",
        "y_val = y_val.to(device)\n",
        "\n",
        "model = CharTransformer(len(chars), hidden_size, len(chars), num_layers, nhead)\n",
        "model = model.to(device)\n",
        "\n",
        "criterion = nn.CrossEntropyLoss()\n",
        "optimizer = optim.Adam(model.parameters(), lr=learning_rate)"
      ],
      "metadata": {
        "colab": {
          "base_uri": "https://localhost:8080/"
        },
        "id": "pjvP5F7Px4z3",
        "outputId": "6fda8542-ae70-47cc-8445-ad2dbbfc1306"
      },
      "execution_count": 29,
      "outputs": [
        {
          "output_type": "stream",
          "name": "stdout",
          "text": [
            "time: 60.3 ms (started: 2024-04-26 19:00:45 +00:00)\n"
          ]
        }
      ]
    },
    {
      "cell_type": "code",
      "source": [
        "for epoch in range(epochs):\n",
        "    model.train()\n",
        "    optimizer.zero_grad()\n",
        "\n",
        "    output = model(X_train)\n",
        "    loss = criterion(output, y_train)\n",
        "    loss.backward()\n",
        "    optimizer.step()\n",
        "\n",
        "    model.eval()\n",
        "    with torch.no_grad():\n",
        "        val_output = model(X_val)\n",
        "        val_loss = criterion(val_output, y_val)\n",
        "        _, predicted = torch.max(val_output, 1)\n",
        "        val_accuracy = (predicted == y_val).float().mean()\n",
        "\n",
        "    if (epoch+1) % 10 == 0:\n",
        "        print(f'Epoch {epoch+1}, train Loss: {loss.item()}, val loss: {val_loss.item()}, val accuracy: {val_accuracy.item()}')\n"
      ],
      "metadata": {
        "colab": {
          "base_uri": "https://localhost:8080/"
        },
        "id": "vJro_6lyyBYJ",
        "outputId": "894a746c-efc8-4e4f-8868-e04599cc7ee4"
      },
      "execution_count": 30,
      "outputs": [
        {
          "output_type": "stream",
          "name": "stdout",
          "text": [
            "Epoch 10, train Loss: 3.0752315521240234, val loss: 3.165795087814331, val accuracy: 0.12896405160427094\n",
            "Epoch 20, train Loss: 3.0430662631988525, val loss: 3.134247303009033, val accuracy: 0.12896405160427094\n",
            "Epoch 30, train Loss: 3.0320165157318115, val loss: 3.150113821029663, val accuracy: 0.12896405160427094\n",
            "Epoch 40, train Loss: 3.0287702083587646, val loss: 3.135131597518921, val accuracy: 0.12896405160427094\n",
            "Epoch 50, train Loss: 3.0228207111358643, val loss: 3.1354637145996094, val accuracy: 0.12896405160427094\n",
            "Epoch 60, train Loss: 3.0268828868865967, val loss: 3.1326334476470947, val accuracy: 0.12896405160427094\n",
            "Epoch 70, train Loss: 3.024582624435425, val loss: 3.1361446380615234, val accuracy: 0.12896405160427094\n",
            "Epoch 80, train Loss: 3.0216739177703857, val loss: 3.135178565979004, val accuracy: 0.12896405160427094\n",
            "Epoch 90, train Loss: 3.0231547355651855, val loss: 3.135715961456299, val accuracy: 0.12896405160427094\n",
            "Epoch 100, train Loss: 3.021343946456909, val loss: 3.135507583618164, val accuracy: 0.12896405160427094\n",
            "time: 53.3 s (started: 2024-04-26 19:00:58 +00:00)\n"
          ]
        }
      ]
    },
    {
      "cell_type": "code",
      "source": [
        "torchinfo.summary(model, input_data = X_train)"
      ],
      "metadata": {
        "colab": {
          "base_uri": "https://localhost:8080/"
        },
        "id": "w1-GeR9vyEbE",
        "outputId": "dcd0e236-e34d-4b86-9ad2-01da7b1db603"
      },
      "execution_count": 31,
      "outputs": [
        {
          "output_type": "execute_result",
          "data": {
            "text/plain": [
              "===============================================================================================\n",
              "Layer (type:depth-idx)                        Output Shape              Param #\n",
              "===============================================================================================\n",
              "CharTransformer                               [1888, 45]                --\n",
              "├─Embedding: 1-1                              [1888, 30, 128]           5,760\n",
              "├─TransformerEncoder: 1-2                     [1888, 30, 128]           --\n",
              "│    └─ModuleList: 2-1                        --                        --\n",
              "│    │    └─TransformerEncoderLayer: 3-1      [1888, 30, 128]           593,024\n",
              "│    │    └─TransformerEncoderLayer: 3-2      [1888, 30, 128]           593,024\n",
              "│    │    └─TransformerEncoderLayer: 3-3      [1888, 30, 128]           593,024\n",
              "├─Linear: 1-3                                 [1888, 45]                5,805\n",
              "===============================================================================================\n",
              "Total params: 1,790,637\n",
              "Trainable params: 1,790,637\n",
              "Non-trainable params: 0\n",
              "Total mult-adds (G): 3.01\n",
              "===============================================================================================\n",
              "Input size (MB): 0.45\n",
              "Forward/backward pass size (MB): 3364.64\n",
              "Params size (MB): 6.37\n",
              "Estimated Total Size (MB): 3371.47\n",
              "==============================================================================================="
            ]
          },
          "metadata": {},
          "execution_count": 31
        },
        {
          "output_type": "stream",
          "name": "stdout",
          "text": [
            "time: 23.7 ms (started: 2024-04-26 19:02:03 +00:00)\n"
          ]
        }
      ]
    },
    {
      "cell_type": "code",
      "source": [],
      "metadata": {
        "id": "8BbF2m6cyUYb"
      },
      "execution_count": null,
      "outputs": []
    }
  ]
}