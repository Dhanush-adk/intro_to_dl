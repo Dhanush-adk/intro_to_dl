{
  "nbformat": 4,
  "nbformat_minor": 0,
  "metadata": {
    "colab": {
      "provenance": [],
      "gpuType": "T4",
      "include_colab_link": true
    },
    "kernelspec": {
      "name": "python3",
      "display_name": "Python 3"
    },
    "language_info": {
      "name": "python"
    },
    "accelerator": "GPU"
  },
  "cells": [
    {
      "cell_type": "markdown",
      "metadata": {
        "id": "view-in-github",
        "colab_type": "text"
      },
      "source": [
        "<a href=\"https://colab.research.google.com/github/Dhanush-adk/intro_to_dl/blob/main/Assignment_5/Assignment_5_2_2.ipynb\" target=\"_parent\"><img src=\"https://colab.research.google.com/assets/colab-badge.svg\" alt=\"Open In Colab\"/></a>"
      ]
    },
    {
      "cell_type": "code",
      "source": [
        "!pip install ipython-autotime\n",
        "%load_ext autotime"
      ],
      "metadata": {
        "colab": {
          "base_uri": "https://localhost:8080/"
        },
        "id": "Yb-tYzFo5X0s",
        "outputId": "52600de0-1ba4-4b39-aafa-3c07c434b20a"
      },
      "execution_count": 1,
      "outputs": [
        {
          "output_type": "stream",
          "name": "stdout",
          "text": [
            "Collecting ipython-autotime\n",
            "  Downloading ipython_autotime-0.3.2-py2.py3-none-any.whl (7.0 kB)\n",
            "Requirement already satisfied: ipython in /usr/local/lib/python3.10/dist-packages (from ipython-autotime) (7.34.0)\n",
            "Requirement already satisfied: setuptools>=18.5 in /usr/local/lib/python3.10/dist-packages (from ipython->ipython-autotime) (67.7.2)\n",
            "Collecting jedi>=0.16 (from ipython->ipython-autotime)\n",
            "  Downloading jedi-0.19.1-py2.py3-none-any.whl (1.6 MB)\n",
            "\u001b[2K     \u001b[90m━━━━━━━━━━━━━━━━━━━━━━━━━━━━━━━━━━━━━━━━\u001b[0m \u001b[32m1.6/1.6 MB\u001b[0m \u001b[31m8.3 MB/s\u001b[0m eta \u001b[36m0:00:00\u001b[0m\n",
            "\u001b[?25hRequirement already satisfied: decorator in /usr/local/lib/python3.10/dist-packages (from ipython->ipython-autotime) (4.4.2)\n",
            "Requirement already satisfied: pickleshare in /usr/local/lib/python3.10/dist-packages (from ipython->ipython-autotime) (0.7.5)\n",
            "Requirement already satisfied: traitlets>=4.2 in /usr/local/lib/python3.10/dist-packages (from ipython->ipython-autotime) (5.7.1)\n",
            "Requirement already satisfied: prompt-toolkit!=3.0.0,!=3.0.1,<3.1.0,>=2.0.0 in /usr/local/lib/python3.10/dist-packages (from ipython->ipython-autotime) (3.0.43)\n",
            "Requirement already satisfied: pygments in /usr/local/lib/python3.10/dist-packages (from ipython->ipython-autotime) (2.16.1)\n",
            "Requirement already satisfied: backcall in /usr/local/lib/python3.10/dist-packages (from ipython->ipython-autotime) (0.2.0)\n",
            "Requirement already satisfied: matplotlib-inline in /usr/local/lib/python3.10/dist-packages (from ipython->ipython-autotime) (0.1.7)\n",
            "Requirement already satisfied: pexpect>4.3 in /usr/local/lib/python3.10/dist-packages (from ipython->ipython-autotime) (4.9.0)\n",
            "Requirement already satisfied: parso<0.9.0,>=0.8.3 in /usr/local/lib/python3.10/dist-packages (from jedi>=0.16->ipython->ipython-autotime) (0.8.4)\n",
            "Requirement already satisfied: ptyprocess>=0.5 in /usr/local/lib/python3.10/dist-packages (from pexpect>4.3->ipython->ipython-autotime) (0.7.0)\n",
            "Requirement already satisfied: wcwidth in /usr/local/lib/python3.10/dist-packages (from prompt-toolkit!=3.0.0,!=3.0.1,<3.1.0,>=2.0.0->ipython->ipython-autotime) (0.2.13)\n",
            "Installing collected packages: jedi, ipython-autotime\n",
            "Successfully installed ipython-autotime-0.3.2 jedi-0.19.1\n",
            "time: 365 µs (started: 2024-04-26 22:16:28 +00:00)\n"
          ]
        }
      ]
    },
    {
      "cell_type": "code",
      "source": [
        "import torch\n",
        "import torch.nn as nn\n",
        "import torch.optim as optim\n",
        "import numpy as np\n",
        "from sklearn.model_selection import train_test_split\n",
        "from torchsummary import summary\n",
        "from torch.utils.data import Dataset, DataLoader\n",
        "import numpy as np\n",
        "import requests"
      ],
      "metadata": {
        "colab": {
          "base_uri": "https://localhost:8080/"
        },
        "id": "DWLRQ0jf5Si3",
        "outputId": "582514fd-2f0b-41d0-f548-b33302ae8289"
      },
      "execution_count": 2,
      "outputs": [
        {
          "output_type": "stream",
          "name": "stdout",
          "text": [
            "time: 7.26 s (started: 2024-04-26 22:16:28 +00:00)\n"
          ]
        }
      ]
    },
    {
      "cell_type": "markdown",
      "source": [
        "for sequence 30"
      ],
      "metadata": {
        "id": "ChMvWaLqzmm6"
      }
    },
    {
      "cell_type": "code",
      "execution_count": 3,
      "metadata": {
        "colab": {
          "base_uri": "https://localhost:8080/"
        },
        "id": "csWoD0uszJvY",
        "outputId": "8b3094a9-68aa-476b-9276-0f976c2b3d7a"
      },
      "outputs": [
        {
          "output_type": "stream",
          "name": "stdout",
          "text": [
            "time: 11.4 s (started: 2024-04-26 22:16:36 +00:00)\n"
          ]
        }
      ],
      "source": [
        "# Step 1: Download the dataset\n",
        "url = \"https://raw.githubusercontent.com/karpathy/char-rnn/master/data/tinyshakespeare/input.txt\"\n",
        "response = requests.get(url)\n",
        "text = response.text  # This is the entire text data\n",
        "\n",
        "# Step 2: Prepare the dataset\n",
        "sequence_length = 30\n",
        "# Create a character mapping to integers\n",
        "chars = sorted(list(set(text)))\n",
        "char_to_int = {ch: i for i, ch in enumerate(chars)}\n",
        "int_to_char = {i: ch for i, ch in enumerate(chars)}\n",
        "\n",
        "# Encode the text into integers\n",
        "encoded_text = [char_to_int[ch] for ch in text]\n",
        "\n",
        "# Create sequences and targets\n",
        "sequences = []\n",
        "targets = []\n",
        "for i in range(0, len(encoded_text) - sequence_length):\n",
        "    seq = encoded_text[i:i+sequence_length]\n",
        "    target = encoded_text[i+sequence_length]\n",
        "    sequences.append(seq)\n",
        "    targets.append(target)\n",
        "\n",
        "# Convert lists to PyTorch tensors\n",
        "sequences = torch.tensor(sequences, dtype=torch.long)\n",
        "targets = torch.tensor(targets, dtype=torch.long)\n",
        "\n",
        "# Step 3: Create a dataset class\n",
        "class CharDataset(Dataset):\n",
        "    def __init__(self, sequences, targets):\n",
        "        self.sequences = sequences\n",
        "        self.targets = targets\n",
        "\n",
        "    def __len__(self):\n",
        "        return len(self.sequences)\n",
        "\n",
        "    def __getitem__(self, index):\n",
        "        return self.sequences[index], self.targets[index]\n",
        "\n",
        "# Instantiate the dataset\n",
        "dataset = CharDataset(sequences, targets)\n",
        "\n",
        "# Step 4: Create data loaders\n",
        "batch_size = 128\n",
        "train_size = int(len(dataset) * 0.8)\n",
        "test_size = len(dataset) - train_size\n",
        "train_dataset, test_dataset = torch.utils.data.random_split(dataset, [train_size, test_size])\n",
        "\n",
        "train_loader = DataLoader(train_dataset, shuffle = True, batch_size = batch_size)\n",
        "test_loader = DataLoader(test_dataset, shuffle = False, batch_size = batch_size)\n"
      ]
    },
    {
      "cell_type": "code",
      "source": [
        "class CharTransformer(nn.Module):\n",
        "    def __init__(self, input_size, hidden_size, output_size, num_layers, nhead):\n",
        "        super(CharTransformer, self).__init__()\n",
        "        self.embedding = nn.Embedding(input_size, hidden_size)\n",
        "        encoder_layers = nn.TransformerEncoderLayer(hidden_size, nhead)\n",
        "        self.transformer_encoder = nn.TransformerEncoder(encoder_layers, num_layers)\n",
        "        self.fc = nn.Linear(hidden_size, output_size)\n",
        "\n",
        "    def forward(self, x):\n",
        "        embedded = self.embedding(x)\n",
        "        transformer_output = self.transformer_encoder(embedded)\n",
        "        output = self.fc(transformer_output[:, -1, :])  # Get the output of the last Transformer block\n",
        "        return output\n"
      ],
      "metadata": {
        "colab": {
          "base_uri": "https://localhost:8080/"
        },
        "id": "sYJvIE-J5f_F",
        "outputId": "f9528abe-f964-4ae3-8d27-6027ccd9522c"
      },
      "execution_count": 4,
      "outputs": [
        {
          "output_type": "stream",
          "name": "stdout",
          "text": [
            "time: 1.05 ms (started: 2024-04-26 22:16:47 +00:00)\n"
          ]
        }
      ]
    },
    {
      "cell_type": "code",
      "source": [
        "hidden_size = 512\n",
        "num_layers = 2\n",
        "num_heads = 2\n",
        "learning_rate = 0.001\n",
        "device = torch.device(\"cuda\" if torch.cuda.is_available() else \"cpu\")\n",
        "epochs = 15"
      ],
      "metadata": {
        "colab": {
          "base_uri": "https://localhost:8080/"
        },
        "id": "d_kvSyXx4Sxw",
        "outputId": "0ee44912-3824-4165-f90d-a751f6c11236"
      },
      "execution_count": 5,
      "outputs": [
        {
          "output_type": "stream",
          "name": "stdout",
          "text": [
            "time: 50.9 ms (started: 2024-04-26 22:16:47 +00:00)\n"
          ]
        }
      ]
    },
    {
      "cell_type": "code",
      "source": [
        "model = CharTransformer(len(chars), hidden_size, len(chars), num_layers, num_heads).to(device)\n",
        "criterion = nn.CrossEntropyLoss()\n",
        "optimizer = optim.Adam(model.parameters(), lr=learning_rate)\n",
        "\n",
        "for epoch in range(epochs):\n",
        "    model.train()\n",
        "    train_loss = 0.0\n",
        "    for inputs, targets in train_loader:\n",
        "        inputs, targets = inputs.to(device), targets.to(device)  # Move data to device\n",
        "        optimizer.zero_grad()\n",
        "        output = model(inputs)\n",
        "        loss = criterion(output, targets)\n",
        "        loss.backward()\n",
        "        optimizer.step()\n",
        "        train_loss += loss.item() * inputs.size(0)\n",
        "\n",
        "    loss = train_loss / len(train_loader.dataset)\n",
        "\n",
        "    # Validation\n",
        "    model.eval()\n",
        "    val_loss = 0.0\n",
        "    correct = 0\n",
        "    total = 0\n",
        "    with torch.no_grad():\n",
        "        for inputs, targets in test_loader:\n",
        "            inputs, targets = inputs.to(device), targets.to(device)  # Move data to device\n",
        "            val_output = model(inputs)\n",
        "            loss = criterion(val_output, targets)\n",
        "            val_loss += loss.item() * inputs.size(0)\n",
        "            _, predicted = torch.max(val_output, 1)\n",
        "            total += targets.size(0)\n",
        "            correct += (predicted == targets).sum().item()\n",
        "\n",
        "    loss_val = val_loss / len(test_loader.dataset)\n",
        "    val_accuracy = correct / total\n",
        "\n",
        "    if (epoch+1) % 1 == 0:\n",
        "        print(f'Epoch {epoch+1}, loss: {loss}, val loss: {loss_val}, val accuracy: {val_accuracy}')"
      ],
      "metadata": {
        "colab": {
          "base_uri": "https://localhost:8080/"
        },
        "id": "3oaSNMC15a1x",
        "outputId": "7dd26ec4-0102-43c8-e203-b2e538f48cfb"
      },
      "execution_count": 6,
      "outputs": [
        {
          "output_type": "stream",
          "name": "stderr",
          "text": [
            "/usr/local/lib/python3.10/dist-packages/torch/nn/modules/transformer.py:286: UserWarning: enable_nested_tensor is True, but self.use_nested_tensor is False because encoder_layer.self_attn.batch_first was not True(use batch_first for better inference performance)\n",
            "  warnings.warn(f\"enable_nested_tensor is True, but self.use_nested_tensor is False because {why_not_sparsity_fast_path}\")\n"
          ]
        },
        {
          "output_type": "stream",
          "name": "stdout",
          "text": [
            "Epoch 1, loss: 2.854694128036499, val loss: 2.843194618173924, val accuracy: 0.1950661890950496\n",
            "Epoch 2, loss: 2.7159008979797363, val loss: 2.7531382579344057, val accuracy: 0.20747020033800595\n",
            "Epoch 3, loss: 2.8177478313446045, val loss: 2.750781629827849, val accuracy: 0.23314789329053717\n",
            "Epoch 4, loss: 2.783623218536377, val loss: 2.7404696324800466, val accuracy: 0.23060612445253348\n",
            "Epoch 5, loss: 2.666354179382324, val loss: 2.6632753026468183, val accuracy: 0.24521120888677697\n",
            "Epoch 6, loss: 2.627310276031494, val loss: 2.639702974567084, val accuracy: 0.23513827312135488\n",
            "Epoch 7, loss: 2.742638111114502, val loss: 2.6830802686950643, val accuracy: 0.24001111743689285\n",
            "Epoch 8, loss: 2.7394111156463623, val loss: 2.704764816725779, val accuracy: 0.2411587238258328\n",
            "Epoch 9, loss: 2.664944887161255, val loss: 2.640737367484444, val accuracy: 0.2457043210070246\n",
            "Epoch 10, loss: 2.688864231109619, val loss: 2.648195458680766, val accuracy: 0.24683847888359417\n",
            "Epoch 11, loss: 2.6763570308685303, val loss: 2.623072340920087, val accuracy: 0.2516082179376258\n",
            "Epoch 12, loss: 2.605239152908325, val loss: 2.6613509437243152, val accuracy: 0.2538451538285673\n",
            "Epoch 13, loss: 2.720334768295288, val loss: 2.6582962205128022, val accuracy: 0.24793677406050935\n",
            "Epoch 14, loss: 2.741641044616699, val loss: 2.6847200567676053, val accuracy: 0.24303703272023058\n",
            "Epoch 15, loss: 2.7789433002471924, val loss: 2.702416172691222, val accuracy: 0.23926248358160782\n",
            "time: 1h 29min 25s (started: 2024-04-26 22:16:47 +00:00)\n"
          ]
        }
      ]
    },
    {
      "cell_type": "code",
      "source": [
        "!pip install torchinfo\n",
        "import torchinfo"
      ],
      "metadata": {
        "colab": {
          "base_uri": "https://localhost:8080/"
        },
        "id": "SB72LAN3R91Z",
        "outputId": "c2769315-ce21-43f5-d0d1-9d7bc52888bd"
      },
      "execution_count": 7,
      "outputs": [
        {
          "output_type": "stream",
          "name": "stdout",
          "text": [
            "Collecting torchinfo\n",
            "  Downloading torchinfo-1.8.0-py3-none-any.whl (23 kB)\n",
            "Installing collected packages: torchinfo\n",
            "Successfully installed torchinfo-1.8.0\n",
            "time: 5.03 s (started: 2024-04-26 23:46:13 +00:00)\n"
          ]
        }
      ]
    },
    {
      "cell_type": "code",
      "source": [
        "dataiter = iter(train_loader)\n",
        "inputs, labels = next(dataiter)  # Get one batch of data\n",
        "\n",
        "model.to(inputs.device)\n",
        "summary = torchinfo.summary(model, input_data=(inputs,))\n",
        "print(summary)\n"
      ],
      "metadata": {
        "colab": {
          "base_uri": "https://localhost:8080/"
        },
        "id": "rmnILvujSmSC",
        "outputId": "29c8955b-f12e-4846-fdcd-335810f983e9"
      },
      "execution_count": 8,
      "outputs": [
        {
          "output_type": "stream",
          "name": "stdout",
          "text": [
            "===============================================================================================\n",
            "Layer (type:depth-idx)                        Output Shape              Param #\n",
            "===============================================================================================\n",
            "CharTransformer                               [128, 65]                 --\n",
            "├─Embedding: 1-1                              [128, 30, 512]            33,280\n",
            "├─TransformerEncoder: 1-2                     [128, 30, 512]            --\n",
            "│    └─ModuleList: 2-1                        --                        --\n",
            "│    │    └─TransformerEncoderLayer: 3-1      [128, 30, 512]            3,152,384\n",
            "│    │    └─TransformerEncoderLayer: 3-2      [128, 30, 512]            3,152,384\n",
            "├─Linear: 1-3                                 [128, 65]                 33,345\n",
            "===============================================================================================\n",
            "Total params: 6,371,393\n",
            "Trainable params: 6,371,393\n",
            "Non-trainable params: 0\n",
            "Total mult-adds (M): 546.58\n",
            "===============================================================================================\n",
            "Input size (MB): 0.03\n",
            "Forward/backward pass size (MB): 236.00\n",
            "Params size (MB): 17.08\n",
            "Estimated Total Size (MB): 253.11\n",
            "===============================================================================================\n",
            "time: 1.01 s (started: 2024-04-26 23:46:18 +00:00)\n"
          ]
        }
      ]
    },
    {
      "cell_type": "code",
      "source": [],
      "metadata": {
        "colab": {
          "base_uri": "https://localhost:8080/"
        },
        "id": "aiUvNFhaeua5",
        "outputId": "2f4aa0d0-35d0-4a00-fa54-65346516a9c5"
      },
      "execution_count": 8,
      "outputs": [
        {
          "output_type": "stream",
          "name": "stdout",
          "text": [
            "time: 1.02 s (started: 2024-04-26 23:46:18 +00:00)\n"
          ]
        }
      ]
    }
  ]
}